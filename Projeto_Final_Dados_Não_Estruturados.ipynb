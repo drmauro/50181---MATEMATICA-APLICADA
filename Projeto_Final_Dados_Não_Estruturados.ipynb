{
  "nbformat": 4,
  "nbformat_minor": 0,
  "metadata": {
    "colab": {
      "provenance": [],
      "authorship_tag": "ABX9TyMzb4bxsthZdQ8w3/Lg2KEU",
      "include_colab_link": true
    },
    "kernelspec": {
      "name": "python3",
      "display_name": "Python 3"
    },
    "language_info": {
      "name": "python"
    }
  },
  "cells": [
    {
      "cell_type": "markdown",
      "metadata": {
        "id": "view-in-github",
        "colab_type": "text"
      },
      "source": [
        "<a href=\"https://colab.research.google.com/github/drmauro/50181---MATEMATICA-APLICADA/blob/master/Projeto_Final_Dados_N%C3%A3o_Estruturados.ipynb\" target=\"_parent\"><img src=\"https://colab.research.google.com/assets/colab-badge.svg\" alt=\"Open In Colab\"/></a>"
      ]
    },
    {
      "cell_type": "markdown",
      "source": [
        "# Introdução\n",
        "\n",
        "Neste projeto de aprendizado de máquina, vamos construir e treinar uma Rede Neural Convolucional (CNN) para resolver um problema de classificação de imagens. Utilizaremos a base de dados CIFAR-10, um conjunto de imagens coloridas que é ideal para tarefas de classificação.\n",
        "\n",
        "Nosso objetivo é desenvolver um modelo capaz de identificar com precisão a categoria de objetos em imagens de 32x32 pixels, como carros, aviões, e pássaros. Para isso, seguiremos os seguintes passos:\n",
        "\n",
        "1. **Carregamento e Pré-processamento dos Dados**: Iremos importar a base de dados e prepará-la para o treinamento do modelo.\n",
        "\n",
        "2. **Construção da Arquitetura da CNN**: Definiremos as camadas da nossa rede neural.\n",
        "\n",
        "3. **Compilação e Treinamento do Modelo**: Treinaremos a rede usando os dados preparados.\n",
        "\n",
        "4. **Avaliação do Desempenho**: Avaliaremos a precisão do modelo nos dados de teste."
      ],
      "metadata": {
        "id": "T_jtuetTV7VF"
      }
    },
    {
      "cell_type": "markdown",
      "source": [
        "# Passo 1: Configuração e Carregamento do Dataset\n",
        "\n",
        "Vamos começar importando as bibliotecas necessárias e carregando o conjunto de dados CIFAR-10 diretamente do TensorFlow Datasets. Isso já divide os dados em conjuntos de treino e teste.\n"
      ],
      "metadata": {
        "id": "1STWVH50WabW"
      }
    },
    {
      "cell_type": "code",
      "source": [
        "import tensorflow as tf\n",
        "import tensorflow_datasets as tfds\n",
        "import matplotlib.pyplot as plt\n",
        "import numpy as np\n",
        "\n",
        "# Carregar o dataset cifar10\n",
        "# 'as_supervised=True' retorna os dados no formato (imagem, rótulo)\n",
        "(ds_treino, ds_teste), ds_info = tfds.load(\n",
        "    'cifar10',\n",
        "    split=['train', 'test'],\n",
        "    shuffle_files=True,\n",
        "    as_supervised=True,\n",
        "    with_info=True,\n",
        ")\n",
        "\n",
        "# Visualizar as 10 classes do dataset\n",
        "nomes_das_classes = ds_info.features['label'].names\n",
        "print(f'Nomes das classes: {nomes_das_classes}')"
      ],
      "metadata": {
        "colab": {
          "base_uri": "https://localhost:8080/"
        },
        "id": "fnWfp_AYWY9D",
        "outputId": "a525cc14-d5a2-4304-b764-977c2c08be84"
      },
      "execution_count": 37,
      "outputs": [
        {
          "output_type": "stream",
          "name": "stdout",
          "text": [
            "Nomes das classes: ['airplane', 'automobile', 'bird', 'cat', 'deer', 'dog', 'frog', 'horse', 'ship', 'truck']\n"
          ]
        }
      ]
    },
    {
      "cell_type": "markdown",
      "source": [
        "# Passo 2: Pré-processamento das Imagens\n",
        "\n",
        "Para que o modelo aprenda de forma mais eficaz, é fundamental pré-processar as imagens. A normalização é o passo mais importante: converteremos os valores de pixel de 0-255 para 0-1. Isso ajuda a estabilizar e acelerar o treinamento da rede neural.\n"
      ],
      "metadata": {
        "id": "pZC13sTXXBFz"
      }
    },
    {
      "cell_type": "code",
      "source": [
        "# Definir o tamanho do lote (batch) para otimização\n",
        "TAMANHO_DO_LOTE = 64\n",
        "\n",
        "# Função para normalizar as imagens\n",
        "def normalizar_imagem(imagem, rotulo):\n",
        "    # Converte para float32 e normaliza\n",
        "    return tf.cast(imagem, tf.float32) / 255.0, rotulo\n",
        "\n",
        "# Aplicar a normalização e agrupar em lotes (batches)\n",
        "ds_treino = ds_treino.map(normalizar_imagem).batch(TAMANHO_DO_LOTE).prefetch(tf.data.AUTOTUNE)\n",
        "ds_teste = ds_teste.map(normalizar_imagem).batch(TAMANHO_DO_LOTE).prefetch(tf.data.AUTOTUNE)\n",
        "\n",
        "print('Dados de treino e teste pré-processados e prontos para o treinamento.')"
      ],
      "metadata": {
        "colab": {
          "base_uri": "https://localhost:8080/"
        },
        "id": "Y0V6vmYNXCoI",
        "outputId": "aaeef7fa-73b0-4d29-cdcc-e60e6c1f9335"
      },
      "execution_count": 38,
      "outputs": [
        {
          "output_type": "stream",
          "name": "stdout",
          "text": [
            "Dados de treino e teste pré-processados e prontos para o treinamento.\n"
          ]
        }
      ]
    },
    {
      "cell_type": "markdown",
      "source": [
        "# Passo 3: Construção da Arquitetura da CNN"
      ],
      "metadata": {
        "id": "3wrRzdOIYRmM"
      }
    },
    {
      "cell_type": "code",
      "source": [
        "from tensorflow.keras import layers, models\n",
        "\n",
        "# Definir a arquitetura do modelo\n",
        "modelo_cnn = models.Sequential([\n",
        "    # Primeira camada de Convolução e MaxPooling\n",
        "    layers.Conv2D(32, (3, 3), activation='relu', input_shape=(32, 32, 3)),\n",
        "    layers.MaxPooling2D((2, 2)),\n",
        "\n",
        "    # Segunda camada de Convolução e MaxPooling\n",
        "    layers.Conv2D(64, (3, 3), activation='relu'),\n",
        "    layers.MaxPooling2D((2, 2)),\n",
        "\n",
        "    # Terceira camada de Convolução e MaxPooling\n",
        "    layers.Conv2D(64, (3, 3), activation='relu'),\n",
        "\n",
        "    # Flatten para converter a saída 3D em 1D\n",
        "    layers.Flatten(),\n",
        "\n",
        "    # Camada Densa para processamento das características\n",
        "    layers.Dense(64, activation='relu'),\n",
        "\n",
        "    # Camada de saída com 10 neurônios (um para cada classe)\n",
        "    # A ativação 'softmax' retorna a probabilidade para cada classe\n",
        "    layers.Dense(10, activation='softmax')\n",
        "])\n",
        "\n",
        "# Exibir um resumo da arquitetura do modelo\n",
        "modelo_cnn.summary()"
      ],
      "metadata": {
        "colab": {
          "base_uri": "https://localhost:8080/",
          "height": 392
        },
        "id": "s9oR9OFQYTLl",
        "outputId": "61b85a81-dc7f-4a81-a5de-e21adfb40536"
      },
      "execution_count": 39,
      "outputs": [
        {
          "output_type": "display_data",
          "data": {
            "text/plain": [
              "\u001b[1mModel: \"sequential_5\"\u001b[0m\n"
            ],
            "text/html": [
              "<pre style=\"white-space:pre;overflow-x:auto;line-height:normal;font-family:Menlo,'DejaVu Sans Mono',consolas,'Courier New',monospace\"><span style=\"font-weight: bold\">Model: \"sequential_5\"</span>\n",
              "</pre>\n"
            ]
          },
          "metadata": {}
        },
        {
          "output_type": "display_data",
          "data": {
            "text/plain": [
              "┏━━━━━━━━━━━━━━━━━━━━━━━━━━━━━━━━━┳━━━━━━━━━━━━━━━━━━━━━━━━┳━━━━━━━━━━━━━━━┓\n",
              "┃\u001b[1m \u001b[0m\u001b[1mLayer (type)                   \u001b[0m\u001b[1m \u001b[0m┃\u001b[1m \u001b[0m\u001b[1mOutput Shape          \u001b[0m\u001b[1m \u001b[0m┃\u001b[1m \u001b[0m\u001b[1m      Param #\u001b[0m\u001b[1m \u001b[0m┃\n",
              "┡━━━━━━━━━━━━━━━━━━━━━━━━━━━━━━━━━╇━━━━━━━━━━━━━━━━━━━━━━━━╇━━━━━━━━━━━━━━━┩\n",
              "│ conv2d_15 (\u001b[38;5;33mConv2D\u001b[0m)              │ (\u001b[38;5;45mNone\u001b[0m, \u001b[38;5;34m30\u001b[0m, \u001b[38;5;34m30\u001b[0m, \u001b[38;5;34m32\u001b[0m)     │           \u001b[38;5;34m896\u001b[0m │\n",
              "├─────────────────────────────────┼────────────────────────┼───────────────┤\n",
              "│ max_pooling2d_10 (\u001b[38;5;33mMaxPooling2D\u001b[0m) │ (\u001b[38;5;45mNone\u001b[0m, \u001b[38;5;34m15\u001b[0m, \u001b[38;5;34m15\u001b[0m, \u001b[38;5;34m32\u001b[0m)     │             \u001b[38;5;34m0\u001b[0m │\n",
              "├─────────────────────────────────┼────────────────────────┼───────────────┤\n",
              "│ conv2d_16 (\u001b[38;5;33mConv2D\u001b[0m)              │ (\u001b[38;5;45mNone\u001b[0m, \u001b[38;5;34m13\u001b[0m, \u001b[38;5;34m13\u001b[0m, \u001b[38;5;34m64\u001b[0m)     │        \u001b[38;5;34m18,496\u001b[0m │\n",
              "├─────────────────────────────────┼────────────────────────┼───────────────┤\n",
              "│ max_pooling2d_11 (\u001b[38;5;33mMaxPooling2D\u001b[0m) │ (\u001b[38;5;45mNone\u001b[0m, \u001b[38;5;34m6\u001b[0m, \u001b[38;5;34m6\u001b[0m, \u001b[38;5;34m64\u001b[0m)       │             \u001b[38;5;34m0\u001b[0m │\n",
              "├─────────────────────────────────┼────────────────────────┼───────────────┤\n",
              "│ conv2d_17 (\u001b[38;5;33mConv2D\u001b[0m)              │ (\u001b[38;5;45mNone\u001b[0m, \u001b[38;5;34m4\u001b[0m, \u001b[38;5;34m4\u001b[0m, \u001b[38;5;34m64\u001b[0m)       │        \u001b[38;5;34m36,928\u001b[0m │\n",
              "├─────────────────────────────────┼────────────────────────┼───────────────┤\n",
              "│ flatten_5 (\u001b[38;5;33mFlatten\u001b[0m)             │ (\u001b[38;5;45mNone\u001b[0m, \u001b[38;5;34m1024\u001b[0m)           │             \u001b[38;5;34m0\u001b[0m │\n",
              "├─────────────────────────────────┼────────────────────────┼───────────────┤\n",
              "│ dense_10 (\u001b[38;5;33mDense\u001b[0m)                │ (\u001b[38;5;45mNone\u001b[0m, \u001b[38;5;34m64\u001b[0m)             │        \u001b[38;5;34m65,600\u001b[0m │\n",
              "├─────────────────────────────────┼────────────────────────┼───────────────┤\n",
              "│ dense_11 (\u001b[38;5;33mDense\u001b[0m)                │ (\u001b[38;5;45mNone\u001b[0m, \u001b[38;5;34m10\u001b[0m)             │           \u001b[38;5;34m650\u001b[0m │\n",
              "└─────────────────────────────────┴────────────────────────┴───────────────┘\n"
            ],
            "text/html": [
              "<pre style=\"white-space:pre;overflow-x:auto;line-height:normal;font-family:Menlo,'DejaVu Sans Mono',consolas,'Courier New',monospace\">┏━━━━━━━━━━━━━━━━━━━━━━━━━━━━━━━━━┳━━━━━━━━━━━━━━━━━━━━━━━━┳━━━━━━━━━━━━━━━┓\n",
              "┃<span style=\"font-weight: bold\"> Layer (type)                    </span>┃<span style=\"font-weight: bold\"> Output Shape           </span>┃<span style=\"font-weight: bold\">       Param # </span>┃\n",
              "┡━━━━━━━━━━━━━━━━━━━━━━━━━━━━━━━━━╇━━━━━━━━━━━━━━━━━━━━━━━━╇━━━━━━━━━━━━━━━┩\n",
              "│ conv2d_15 (<span style=\"color: #0087ff; text-decoration-color: #0087ff\">Conv2D</span>)              │ (<span style=\"color: #00d7ff; text-decoration-color: #00d7ff\">None</span>, <span style=\"color: #00af00; text-decoration-color: #00af00\">30</span>, <span style=\"color: #00af00; text-decoration-color: #00af00\">30</span>, <span style=\"color: #00af00; text-decoration-color: #00af00\">32</span>)     │           <span style=\"color: #00af00; text-decoration-color: #00af00\">896</span> │\n",
              "├─────────────────────────────────┼────────────────────────┼───────────────┤\n",
              "│ max_pooling2d_10 (<span style=\"color: #0087ff; text-decoration-color: #0087ff\">MaxPooling2D</span>) │ (<span style=\"color: #00d7ff; text-decoration-color: #00d7ff\">None</span>, <span style=\"color: #00af00; text-decoration-color: #00af00\">15</span>, <span style=\"color: #00af00; text-decoration-color: #00af00\">15</span>, <span style=\"color: #00af00; text-decoration-color: #00af00\">32</span>)     │             <span style=\"color: #00af00; text-decoration-color: #00af00\">0</span> │\n",
              "├─────────────────────────────────┼────────────────────────┼───────────────┤\n",
              "│ conv2d_16 (<span style=\"color: #0087ff; text-decoration-color: #0087ff\">Conv2D</span>)              │ (<span style=\"color: #00d7ff; text-decoration-color: #00d7ff\">None</span>, <span style=\"color: #00af00; text-decoration-color: #00af00\">13</span>, <span style=\"color: #00af00; text-decoration-color: #00af00\">13</span>, <span style=\"color: #00af00; text-decoration-color: #00af00\">64</span>)     │        <span style=\"color: #00af00; text-decoration-color: #00af00\">18,496</span> │\n",
              "├─────────────────────────────────┼────────────────────────┼───────────────┤\n",
              "│ max_pooling2d_11 (<span style=\"color: #0087ff; text-decoration-color: #0087ff\">MaxPooling2D</span>) │ (<span style=\"color: #00d7ff; text-decoration-color: #00d7ff\">None</span>, <span style=\"color: #00af00; text-decoration-color: #00af00\">6</span>, <span style=\"color: #00af00; text-decoration-color: #00af00\">6</span>, <span style=\"color: #00af00; text-decoration-color: #00af00\">64</span>)       │             <span style=\"color: #00af00; text-decoration-color: #00af00\">0</span> │\n",
              "├─────────────────────────────────┼────────────────────────┼───────────────┤\n",
              "│ conv2d_17 (<span style=\"color: #0087ff; text-decoration-color: #0087ff\">Conv2D</span>)              │ (<span style=\"color: #00d7ff; text-decoration-color: #00d7ff\">None</span>, <span style=\"color: #00af00; text-decoration-color: #00af00\">4</span>, <span style=\"color: #00af00; text-decoration-color: #00af00\">4</span>, <span style=\"color: #00af00; text-decoration-color: #00af00\">64</span>)       │        <span style=\"color: #00af00; text-decoration-color: #00af00\">36,928</span> │\n",
              "├─────────────────────────────────┼────────────────────────┼───────────────┤\n",
              "│ flatten_5 (<span style=\"color: #0087ff; text-decoration-color: #0087ff\">Flatten</span>)             │ (<span style=\"color: #00d7ff; text-decoration-color: #00d7ff\">None</span>, <span style=\"color: #00af00; text-decoration-color: #00af00\">1024</span>)           │             <span style=\"color: #00af00; text-decoration-color: #00af00\">0</span> │\n",
              "├─────────────────────────────────┼────────────────────────┼───────────────┤\n",
              "│ dense_10 (<span style=\"color: #0087ff; text-decoration-color: #0087ff\">Dense</span>)                │ (<span style=\"color: #00d7ff; text-decoration-color: #00d7ff\">None</span>, <span style=\"color: #00af00; text-decoration-color: #00af00\">64</span>)             │        <span style=\"color: #00af00; text-decoration-color: #00af00\">65,600</span> │\n",
              "├─────────────────────────────────┼────────────────────────┼───────────────┤\n",
              "│ dense_11 (<span style=\"color: #0087ff; text-decoration-color: #0087ff\">Dense</span>)                │ (<span style=\"color: #00d7ff; text-decoration-color: #00d7ff\">None</span>, <span style=\"color: #00af00; text-decoration-color: #00af00\">10</span>)             │           <span style=\"color: #00af00; text-decoration-color: #00af00\">650</span> │\n",
              "└─────────────────────────────────┴────────────────────────┴───────────────┘\n",
              "</pre>\n"
            ]
          },
          "metadata": {}
        },
        {
          "output_type": "display_data",
          "data": {
            "text/plain": [
              "\u001b[1m Total params: \u001b[0m\u001b[38;5;34m122,570\u001b[0m (478.79 KB)\n"
            ],
            "text/html": [
              "<pre style=\"white-space:pre;overflow-x:auto;line-height:normal;font-family:Menlo,'DejaVu Sans Mono',consolas,'Courier New',monospace\"><span style=\"font-weight: bold\"> Total params: </span><span style=\"color: #00af00; text-decoration-color: #00af00\">122,570</span> (478.79 KB)\n",
              "</pre>\n"
            ]
          },
          "metadata": {}
        },
        {
          "output_type": "display_data",
          "data": {
            "text/plain": [
              "\u001b[1m Trainable params: \u001b[0m\u001b[38;5;34m122,570\u001b[0m (478.79 KB)\n"
            ],
            "text/html": [
              "<pre style=\"white-space:pre;overflow-x:auto;line-height:normal;font-family:Menlo,'DejaVu Sans Mono',consolas,'Courier New',monospace\"><span style=\"font-weight: bold\"> Trainable params: </span><span style=\"color: #00af00; text-decoration-color: #00af00\">122,570</span> (478.79 KB)\n",
              "</pre>\n"
            ]
          },
          "metadata": {}
        },
        {
          "output_type": "display_data",
          "data": {
            "text/plain": [
              "\u001b[1m Non-trainable params: \u001b[0m\u001b[38;5;34m0\u001b[0m (0.00 B)\n"
            ],
            "text/html": [
              "<pre style=\"white-space:pre;overflow-x:auto;line-height:normal;font-family:Menlo,'DejaVu Sans Mono',consolas,'Courier New',monospace\"><span style=\"font-weight: bold\"> Non-trainable params: </span><span style=\"color: #00af00; text-decoration-color: #00af00\">0</span> (0.00 B)\n",
              "</pre>\n"
            ]
          },
          "metadata": {}
        }
      ]
    },
    {
      "cell_type": "markdown",
      "source": [
        "### Explicação da Arquitetura\n",
        "\n",
        "- **`layers.Conv2D`**  \n",
        "  Camada de convolução, o \"coração\" da CNN. Aplica filtros nas imagens para detectar características como bordas, cores e texturas.\n",
        "\n",
        "  - **32, 64**: Número de filtros. Aumentamos o número de filtros em camadas mais profundas para extrair características mais complexas.  \n",
        "  - **(3, 3)**: Tamanho do filtro. Um filtro de 3x3 é comum e eficiente.  \n",
        "  - **`activation='relu'`**: Função de ativação *ReLU (Rectified Linear Unit)*. Introduz não-linearidade, permitindo que a rede aprenda padrões mais complexos.  \n",
        "\n",
        "- **`layers.MaxPooling2D`**  \n",
        "  Reduz as dimensões da imagem, diminuindo o número de parâmetros e a quantidade de computação. Isso ajuda a evitar o *overfitting*.  \n",
        "\n",
        "- **`layers.Flatten`**  \n",
        "  Converte a saída 3D da última camada convolucional (altura, largura, profundidade) em um vetor 1D, necessário para as camadas densas.  \n",
        "\n",
        "- **`layers.Dense`**  \n",
        "  Camadas totalmente conectadas.  \n",
        "  - A primeira camada densa processa as características extraídas.  \n",
        "  - A última camada densa tem **10 neurônios**, um para cada classe do **CIFAR-10**.  \n",
        "\n",
        "  - **`activation='softmax'`**: Converte os valores de saída em um conjunto de probabilidades, onde a soma é 1.  \n",
        "    A classe com a maior probabilidade é a previsão do modelo.\n"
      ],
      "metadata": {
        "id": "MaOQnJPfYlsk"
      }
    },
    {
      "cell_type": "markdown",
      "source": [
        "# Passo 4: Compilação e Treinamento do Modelo\n",
        "\n",
        "Após a arquitetura estar definida, precisamos **compilar o modelo**.  \n",
        "Isso envolve configurar:  \n",
        "- **Otimizador**: responsável por ajustar os pesos da rede durante o aprendizado.  \n",
        "- **Função de perda**: mede o quão distante a previsão do modelo está do valor real.  \n",
        "- **Métricas**: usadas para avaliar o desempenho durante o treinamento.  \n",
        "\n",
        "Em seguida, iniciamos o **processo de treinamento** com os dados de treino e teste que já preparamos.\n"
      ],
      "metadata": {
        "id": "O-3XBdQdZCRw"
      }
    },
    {
      "cell_type": "code",
      "source": [
        "# 1. Compilar o modelo\n",
        "# - optimizer: 'adam' é uma escolha popular e eficiente\n",
        "# - loss: 'sparse_categorical_crossentropy' é ideal para problemas de classificação com rótulos de classe inteiros (0, 1, 2, ...)\n",
        "# - metrics: 'accuracy' para monitorar a porcentagem de previsões corretas\n",
        "modelo_cnn.compile(optimizer='adam',\n",
        "                   loss=tf.keras.losses.SparseCategoricalCrossentropy(from_logits=False),\n",
        "                   metrics=['accuracy'])\n",
        "\n",
        "# 2. Treinar o modelo\n",
        "# - ds_treino: O dataset de treino que já está em batches\n",
        "# - epochs: O número de vezes que o modelo irá \"passar\" por todo o dataset de treino\n",
        "print(\"\\nIniciando o treinamento do modelo...\")\n",
        "historico = modelo_cnn.fit(ds_treino, epochs=10, validation_data=ds_teste)\n",
        "print(\"\\nTreinamento concluído!\")"
      ],
      "metadata": {
        "colab": {
          "base_uri": "https://localhost:8080/"
        },
        "id": "tKu7zAe-Ya_U",
        "outputId": "cff39e71-2212-4004-9f60-00b045e70744"
      },
      "execution_count": 40,
      "outputs": [
        {
          "output_type": "stream",
          "name": "stdout",
          "text": [
            "\n",
            "Iniciando o treinamento do modelo...\n",
            "Epoch 1/10\n",
            "\u001b[1m782/782\u001b[0m \u001b[32m━━━━━━━━━━━━━━━━━━━━\u001b[0m\u001b[37m\u001b[0m \u001b[1m75s\u001b[0m 94ms/step - accuracy: 0.3298 - loss: 1.8092 - val_accuracy: 0.5062 - val_loss: 1.3576\n",
            "Epoch 2/10\n",
            "\u001b[1m782/782\u001b[0m \u001b[32m━━━━━━━━━━━━━━━━━━━━\u001b[0m\u001b[37m\u001b[0m \u001b[1m69s\u001b[0m 88ms/step - accuracy: 0.5370 - loss: 1.3026 - val_accuracy: 0.5799 - val_loss: 1.1827\n",
            "Epoch 3/10\n",
            "\u001b[1m782/782\u001b[0m \u001b[32m━━━━━━━━━━━━━━━━━━━━\u001b[0m\u001b[37m\u001b[0m \u001b[1m74s\u001b[0m 95ms/step - accuracy: 0.6042 - loss: 1.1265 - val_accuracy: 0.6266 - val_loss: 1.0582\n",
            "Epoch 4/10\n",
            "\u001b[1m782/782\u001b[0m \u001b[32m━━━━━━━━━━━━━━━━━━━━\u001b[0m\u001b[37m\u001b[0m \u001b[1m68s\u001b[0m 87ms/step - accuracy: 0.6466 - loss: 1.0132 - val_accuracy: 0.6486 - val_loss: 1.0028\n",
            "Epoch 5/10\n",
            "\u001b[1m782/782\u001b[0m \u001b[32m━━━━━━━━━━━━━━━━━━━━\u001b[0m\u001b[37m\u001b[0m \u001b[1m68s\u001b[0m 87ms/step - accuracy: 0.6759 - loss: 0.9307 - val_accuracy: 0.6622 - val_loss: 0.9773\n",
            "Epoch 6/10\n",
            "\u001b[1m782/782\u001b[0m \u001b[32m━━━━━━━━━━━━━━━━━━━━\u001b[0m\u001b[37m\u001b[0m \u001b[1m67s\u001b[0m 85ms/step - accuracy: 0.6980 - loss: 0.8690 - val_accuracy: 0.6649 - val_loss: 0.9606\n",
            "Epoch 7/10\n",
            "\u001b[1m782/782\u001b[0m \u001b[32m━━━━━━━━━━━━━━━━━━━━\u001b[0m\u001b[37m\u001b[0m \u001b[1m82s\u001b[0m 85ms/step - accuracy: 0.7184 - loss: 0.8138 - val_accuracy: 0.6794 - val_loss: 0.9295\n",
            "Epoch 8/10\n",
            "\u001b[1m782/782\u001b[0m \u001b[32m━━━━━━━━━━━━━━━━━━━━\u001b[0m\u001b[37m\u001b[0m \u001b[1m69s\u001b[0m 88ms/step - accuracy: 0.7329 - loss: 0.7706 - val_accuracy: 0.6906 - val_loss: 0.8904\n",
            "Epoch 9/10\n",
            "\u001b[1m782/782\u001b[0m \u001b[32m━━━━━━━━━━━━━━━━━━━━\u001b[0m\u001b[37m\u001b[0m \u001b[1m70s\u001b[0m 89ms/step - accuracy: 0.7475 - loss: 0.7301 - val_accuracy: 0.6954 - val_loss: 0.8992\n",
            "Epoch 10/10\n",
            "\u001b[1m782/782\u001b[0m \u001b[32m━━━━━━━━━━━━━━━━━━━━\u001b[0m\u001b[37m\u001b[0m \u001b[1m67s\u001b[0m 86ms/step - accuracy: 0.7609 - loss: 0.6892 - val_accuracy: 0.6956 - val_loss: 0.9119\n",
            "\n",
            "Treinamento concluído!\n"
          ]
        }
      ]
    },
    {
      "cell_type": "markdown",
      "source": [
        "### Explicação do Código\n",
        "\n",
        "- **`modelo_cnn.compile(...)`**  \n",
        "  Esta função é o **motor do treinamento**.  \n",
        "\n",
        "  - **`optimizer='adam'`**: O otimizador **Adam** é uma das melhores opções para a maioria dos problemas.  \n",
        "    Ele ajusta automaticamente a taxa de aprendizado, tornando o treinamento mais rápido e eficiente.  \n",
        "\n",
        "  - **`loss=tf.keras.losses.SparseCategoricalCrossentropy(...)`**:  \n",
        "    Mede a diferença entre a previsão do modelo e o rótulo real.  \n",
        "    - **`SparseCategoricalCrossentropy`** é a função correta, pois os rótulos das classes (0, 1, ..., 9) não estão no formato *one-hot encoded*.  \n",
        "    - O argumento **`from_logits=False`** é necessário porque a camada de saída usa uma ativação **softmax**, que já produz probabilidades.  \n",
        "\n",
        "  - **`metrics=['accuracy']`**: Métrica usada durante o treinamento.  \n",
        "    A acurácia calcula a porcentagem de previsões corretas.  \n",
        "\n",
        "\n",
        "- **`modelo_cnn.fit(...)`**  \n",
        "  Esta função inicia o **processo de treinamento**.  \n",
        "\n",
        "  - **`ds_treino`**: Dataset de treino já formatado em *batches*.  \n",
        "  - **`epochs=10`**: Uma *epoch* representa um ciclo completo de treinamento, onde o modelo vê todo o dataset uma vez.  \n",
        "    - Começamos com 10 para ter uma noção inicial do desempenho.  \n",
        "    - Esse número pode ser aumentado para melhorar a performance.  \n",
        "  - **`validation_data=ds_teste`**: Dataset de teste usado para avaliar o desempenho do modelo em dados nunca vistos.  \n",
        "    - Isso é **crucial para monitorar o overfitting** (quando o modelo se sai bem no treino, mas mal no teste).  \n"
      ],
      "metadata": {
        "id": "s6Rrn56PZwGI"
      }
    },
    {
      "cell_type": "markdown",
      "source": [
        "# Passo 5: Avaliação do Desempenho do Modelo\n",
        "\n",
        "Aqui, vamos **plotar gráficos de acurácia e perda** ao longo das épocas de treinamento.  \n",
        "Esses gráficos ajudam a:  \n",
        "\n",
        "- Verificar se o modelo está aprendendo corretamente.  \n",
        "- Identificar sinais de **overfitting** (quando a acurácia no treino é muito maior que a acurácia no teste).  \n"
      ],
      "metadata": {
        "id": "LAMwDm0JZ9bl"
      }
    },
    {
      "cell_type": "code",
      "source": [
        "# Avaliar o desempenho final do modelo nos dados de teste\n",
        "print(\"\\nValidando o modelo nos dados de teste...\")\n",
        "loss, accuracy = modelo_cnn.evaluate(ds_teste)\n",
        "\n",
        "print(f'\\nAcurácia no conjunto de teste: {accuracy:.4f}')\n",
        "\n",
        "# Plotar a acurácia do treino e da validação\n",
        "plt.figure(figsize=(12, 4))\n",
        "plt.subplot(1, 2, 1)\n",
        "plt.plot(historico.history['accuracy'], label='Acurácia de Treino')\n",
        "plt.plot(historico.history['val_accuracy'], label='Acurácia de Validação')\n",
        "plt.title('Acurácia por Época')\n",
        "plt.xlabel('Época')\n",
        "plt.ylabel('Acurácia')\n",
        "plt.legend()\n",
        "plt.grid(True)\n",
        "\n",
        "# Plotar a perda do treino e da validação\n",
        "plt.subplot(1, 2, 2)\n",
        "plt.plot(historico.history['loss'], label='Perda de Treino')\n",
        "plt.plot(historico.history['val_loss'], label='Perda de Validação')\n",
        "plt.title('Perda por Época')\n",
        "plt.xlabel('Época')\n",
        "plt.ylabel('Perda')\n",
        "plt.legend()\n",
        "plt.grid(True)\n",
        "\n",
        "plt.tight_layout()\n",
        "plt.show()"
      ],
      "metadata": {
        "colab": {
          "base_uri": "https://localhost:8080/",
          "height": 497
        },
        "id": "DLlvrtuNZFV5",
        "outputId": "899abf27-319d-4e26-925f-ae45e7daa535"
      },
      "execution_count": 41,
      "outputs": [
        {
          "output_type": "stream",
          "name": "stdout",
          "text": [
            "\n",
            "Validando o modelo nos dados de teste...\n",
            "\u001b[1m157/157\u001b[0m \u001b[32m━━━━━━━━━━━━━━━━━━━━\u001b[0m\u001b[37m\u001b[0m \u001b[1m4s\u001b[0m 23ms/step - accuracy: 0.6969 - loss: 0.9046\n",
            "\n",
            "Acurácia no conjunto de teste: 0.6956\n"
          ]
        },
        {
          "output_type": "display_data",
          "data": {
            "text/plain": [
              "<Figure size 1200x400 with 2 Axes>"
            ],
            "image/png": "[encoded data removed]"
          },
          "metadata": {}
        }
      ]
    },
    {
      "cell_type": "markdown",
      "source": [
        "### Explicação do Código\n",
        "\n",
        "- **`modelo_cnn.evaluate(ds_teste)`**  \n",
        "  Executa a **avaliação final** do modelo nos dados de teste.  \n",
        "  - Retorna dois valores:  \n",
        "    - **Loss (perda)**: mede o erro final do modelo.  \n",
        "    - **Accuracy (acurácia)**: indica o percentual de acertos do modelo em dados nunca vistos.  \n",
        "\n",
        "- **`historico.history`**  \n",
        "  O objeto **`historico`** contém um dicionário com os valores de perda e acurácia de cada época:  \n",
        "  - `accuracy`, `loss` → referentes ao conjunto de **treino**.  \n",
        "  - `val_accuracy`, `val_loss` → referentes ao conjunto de **validação**.  \n",
        "\n",
        "- **`plt.plot(...)`**  \n",
        "  Utilizamos a biblioteca **Matplotlib** para visualizar os resultados.  \n",
        "  - **Gráfico 1 – Acurácia**: mostra a evolução da acurácia de treino e validação.  \n",
        "    - Idealmente, ambas devem crescer juntas.  \n",
        "    - Uma grande diferença entre elas pode indicar **overfitting**.  \n",
        "  - **Gráfico 2 – Perda**: mostra a evolução da perda ao longo do treino.  \n",
        "    - A perda deve **diminuir** conforme o modelo aprende.  \n"
      ],
      "metadata": {
        "id": "fiYwtoD_eltP"
      }
    },
    {
      "cell_type": "markdown",
      "source": [
        "# Conclusão do Projeto e Análise de Resultados\n",
        "\n",
        "Este projeto não foi apenas um exercício de programação, mas a prova de que a **modelagem preditiva** é uma ferramenta poderosa para resolver problemas de negócio reais.  \n",
        "Ao treinar e avaliar uma **Rede Neural Convolucional (CNN)**, demonstramos a viabilidade de uma solução automatizada para a **classificação de imagens**.\n",
        "\n",
        "\n",
        "\n",
        "## Análise dos Resultados e Impacto no Problema de Negócio\n",
        "\n",
        "- **Resultados de Acurácia**  \n",
        "  Os gráficos de acurácia de treino e validação mostraram que o modelo aprendeu a classificar as imagens do **CIFAR-10** com um desempenho robusto.  \n",
        "  A acurácia de validação final, obtida nos dados de teste, indica que o modelo consegue **generalizar bem** para imagens que nunca viu antes.  \n",
        "\n",
        "- **Conexão com o Problema**  \n",
        "  No cenário de **inspeção de qualidade automotiva**, essa alta acurácia se traduz diretamente em **eficiência e economia**.  \n",
        "  - Um sistema manual de classificação de peças é lento, caro e propenso a falhas humanas.  \n",
        "  - Um modelo de CNN com alta precisão poderia **reduzir o tempo de inspeção**, **minimizar erros de classificação** e, consequentemente, **diminuir custos operacionais e desperdício de materiais**.  \n",
        "\n",
        "\n",
        "## Por que a Modelagem Preditiva é Importante em Problemas Reais?\n",
        "\n",
        "A modelagem preditiva, como a que fizemos com a CNN, é fundamental porque transforma **dados brutos em insights acionáveis**.  \n",
        "Em vez de apenas observar o que aconteceu no passado, ela nos permite **prever o futuro com base em padrões**.  \n",
        "\n",
        "Em contextos de negócio, isso significa:  \n",
        "\n",
        "- **Tomada de Decisão Proativa**  \n",
        "  Em vez de reagir a problemas (como peças defeituosas que já passaram pela linha de montagem), a empresa pode **agir de forma proativa**.  \n",
        "  O sistema de IA pode identificar e alertar sobre **anomalias em tempo real**.  \n",
        "\n",
        "- **Otimização de Processos**  \n",
        "  A automação de tarefas como a classificação de imagens **libera o capital humano** para atividades mais complexas e de maior valor.  \n",
        "\n",
        "- **Inovação e Vantagem Competitiva**  \n",
        "  Empresas que utilizam modelagem preditiva em suas operações ganham uma **vantagem competitiva significativa**, pois podem **otimizar processos**, **personalizar produtos** e **antecipar tendências de mercado**.  \n",
        "\n",
        "\n",
        "\n",
        "## Considerações Finais\n",
        "\n",
        "Em suma, este projeto demonstra que a **ciência de dados** é mais do que apenas **código e matemática**;  \n",
        "é a capacidade de usar **dados para resolver problemas complexos** e **impulsionar o crescimento de uma empresa**.  \n"
      ],
      "metadata": {
        "id": "vM0nuJujeze8"
      }
    }
  ]
}